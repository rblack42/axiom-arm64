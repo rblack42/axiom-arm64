{
 "cells": [
  {
   "cell_type": "markdown",
   "id": "dda18af0-5cc7-4c20-954a-4f733d7fa7ef",
   "metadata": {},
   "source": [
    "# Axiom Documentation"
   ]
  },
  {
   "cell_type": "markdown",
   "id": "941a03a1-ab9e-43ae-a63c-a6de3c283b45",
   "metadata": {},
   "source": [
    "The best [lace to start this project is to look at the documentation in the code itself.\n",
    "\n",
    "Axion is currently hosted on Git hub at the [Axion Repository](https://github.com/daly/axiom).\n",
    "\n",
    "The first thing I noticed was that theer is a top level **Makefile** which drives the installation process. This file is big, and has a lot of things going on. I have faced thhis kind of **Makefile** many times in my career, and I developed a way to split up a huge **Makefile** into a set of smaller files, each focusing on a small part of the process of building a program and its associated artifacts. I call this scheme [*Modular Make*](https://github.com/rblack42/modular-make). I will be using that systam, which depends on a working installation of Python 3 to do it's work. I used this system for many years to help students in my programming classes manage their projects, rather than surrender to some IDE notion of proper project management. My theory is that you should pick an IDE and lear it well, after you join a development team somewhere.\n",
    "\n",
    "## Modular Make\n",
    "\n",
    "In the *Modular Make* system, the top level **Makefile** is kept brief. It basically sets a few environment variables based on the location in the file system where it is run:\n",
    "\n",
    "```text\n",
    "PROJPATH = $(PWD)\n",
    "PROJNAME = $(notdir $(PROJPATH))\n",
    "MK = ./mk\n",
    "\n",
    "include $(MK)/*.mk\n",
    "```\n",
    "\n",
    "For this project the project name is **axiom-arm64**. Ths project path root directory on my system is **/Users/rblack/_projects/**, where I keep all my active projects. The project is also hosted on *Github* at [**axion-arm64**](https://github.com/rblack42/axiom-arm64).\n",
    "\n",
    "```note\n",
    "I rarely change this top-level **Makefile**, so we will leave this alone here.\n",
    "```\n",
    "\n",
    "all components of this project **Makefile** live under the **mk** directory and end with an **mk** extension. \n",
    "\n",
    "Let's start off with a simple example of how this works.\n",
    "\n",
    "First, here are the basic files needed in the **mk** directory:\n",
    "\n",
    "- pyfind.py\n",
    "- pyhelp.py\n",
    "- debug.mk\n",
    "- help.mk\n",
    "\n",
    "Now we can do this:"
   ]
  },
  {
   "cell_type": "code",
   "execution_count": 1,
   "id": "25c12fd5-f101-4b46-9a15-5cf056aee14a",
   "metadata": {},
   "outputs": [
    {
     "name": "stdout",
     "output_type": "stream",
     "text": [
      "debug:               display local make variables defined\r\n",
      "debug-all:           display all make variables defined\r\n"
     ]
    },
    {
     "name": "stdout",
     "output_type": "stream",
     "text": [
      "help:                display help messages\r\n"
     ]
    }
   ],
   "source": [
    "!cd .. && make help"
   ]
  },
  {
   "cell_type": "markdown",
   "id": "fa38de47-882d-486e-894f-795e817f227a",
   "metadata": {},
   "source": [
    "```{note}\n",
    "I needed that first **cd** command to move *Jupyter* from the notebook directory for this project to the top-level directory.\n",
    "```\n",
    "\n",
    "There are two debug targets for **make** here, and one for **help**. The debug targets display the variables **make** will use in processing the command in the **Makefile**.\n",
    "\n",
    "Since we do not have anything defined yet, except got the definitions in the top-level **Makefile**, let's see what we get:"
   ]
  },
  {
   "cell_type": "code",
   "execution_count": 2,
   "id": "b4833a44-38dd-4b0b-862f-d92ff9297ef1",
   "metadata": {},
   "outputs": [
    {
     "name": "stdout",
     "output_type": "stream",
     "text": [
      "mk/debug.mk:7: .DEFAULT_GOAL = all \r\n",
      "mk/debug.mk:7: AWK = gawk  \r\n",
      "mk/debug.mk:7: AXIOM = ~/_projects/axiom-m1 \r\n",
      "mk/debug.mk:7: BOOKS = /Users/rblack/_projects/axiom-arm641/books \r\n",
      "mk/debug.mk:7: BUILDDIR = ~/_projects/axiom-m1/build \r\n",
      "mk/debug.mk:7: COMMAND = /usr/local/axiom/mnt/DarwinMx/bin/axiom \r\n",
      "mk/debug.mk:7: CURDIR = /Users/rblack/_projects/axiom-arm64 \r\n",
      "mk/debug.mk:7: DAASE = /Users/rblack/_projects/axiom-arm64/src/share \r\n",
      "mk/debug.mk:7: DESTDIR = /usr/local/axiom \r\n",
      "mk/debug.mk:7: DOCUMENT = ~/_projects/axiom/mnt/DarwinMx/bin/document \r\n",
      "mk/debug.mk:7: EXTRACT = /Users/rblack/_projects/axiom-arm641/books/extract \r\n",
      "mk/debug.mk:7: INT = ~/_projects/axiom/int \r\n",
      "mk/debug.mk:7: LSP = /Users/rblack/_projects/axiom-arm64/lsp \r\n",
      "mk/debug.mk:7: MAKEFILE_LIST =  Makefile mk/01_environment.mk mk/debug.mk mk/help.mk \r\n",
      "mk/debug.mk:7: MAKEFLAGS =  \r\n",
      "mk/debug.mk:7: MK = ./mk \r\n",
      "mk/debug.mk:7: MNT = ~/_projects/axiom/mnt \r\n",
      "mk/debug.mk:7: OBJ = ~/_projects/axiom/obj \r\n",
      "mk/debug.mk:7: PATCH = patch \r\n",
      "mk/debug.mk:7: PROJNAME = axiom-arm64 \r\n",
      "mk/debug.mk:7: PROJPATH = /Users/rblack/_projects/axiom-arm64 \r\n",
      "mk/debug.mk:7: PROOFS = ~/_projects/axiom/obj/DarwinMx/proofs \r\n",
      "mk/debug.mk:7: RANLIB = ranlib \r\n",
      "mk/debug.mk:7: SHELL = /bin/sh \r\n",
      "mk/debug.mk:7: SPAD = ~/_projects/axiom/mnt/DarwinMx \r\n",
      "mk/debug.mk:7: SPADBIN = ~/_projects/axiom/mnt/DarwinMx/bin \r\n",
      "mk/debug.mk:7: SPD = /Users/rblack/_projects/axiom-arm64 \r\n",
      "mk/debug.mk:7: SPD1 = ~/_projects/axiom \r\n",
      "mk/debug.mk:7: SRC = /Users/rblack/_projects/axiom-arm64/src \r\n",
      "mk/debug.mk:7: SRCDIRS = \"interpdir sharedir algebradir etcdir docdir graphdir smandir hyperdir browserdir inputdir\" \r\n",
      "mk/debug.mk:7: SYS = DarwinMx \r\n",
      "mk/debug.mk:7: SYSNAME = DarwinMx \r\n",
      "mk/debug.mk:7: TAR = tar \r\n",
      "mk/debug.mk:7: TMP = ~/_projects/axiom/obj1/tmp \r\n",
      "mk/debug.mk:7: TOUCH = touch \r\n",
      "mk/debug.mk:7: UNCOMPRESS = gunzip \r\n",
      "mk/debug.mk:7: VERSION = \"Axiom (May 2017)\" \r\n",
      "mk/debug.mk:7: ZIPS = /Users/rblack/_projects/axiom-arm641/zips \r\n",
      "make: Nothing to be done for `debug'.\r\n"
     ]
    }
   ],
   "source": [
    "!cd .. && make debug"
   ]
  },
  {
   "cell_type": "code",
   "execution_count": null,
   "id": "dc930324-df35-49c0-925e-c2488bcd15a8",
   "metadata": {},
   "outputs": [],
   "source": []
  },
  {
   "cell_type": "code",
   "execution_count": null,
   "id": "b6532af4-cbc2-44e2-b229-4958bd60ffda",
   "metadata": {},
   "outputs": [],
   "source": []
  }
 ],
 "metadata": {
  "kernelspec": {
   "display_name": "Python 3 (ipykernel)",
   "language": "python",
   "name": "python3"
  },
  "language_info": {
   "codemirror_mode": {
    "name": "ipython",
    "version": 3
   },
   "file_extension": ".py",
   "mimetype": "text/x-python",
   "name": "python",
   "nbconvert_exporter": "python",
   "pygments_lexer": "ipython3",
   "version": "3.13.1"
  }
 },
 "nbformat": 4,
 "nbformat_minor": 5
}