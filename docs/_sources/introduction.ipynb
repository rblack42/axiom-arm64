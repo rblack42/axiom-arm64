{
 "cells": [
  {
   "cell_type": "markdown",
   "id": "3c03bf05-307a-418a-b38e-a124376e02d3",
   "metadata": {},
   "source": [
    "# AXIOM - Symbolic Math Engine"
   ]
  },
  {
   "cell_type": "markdown",
   "id": "dbd751e0-40ba-499f-ade3-3238c596303f",
   "metadata": {},
   "source": [
    "*Axiom* is a computer algebra system that started life as an IBM project called *Scratchpad in 1971. Such systems focus on manipulating the *symbols* of math, not numerical results. IBM worked on this project into the 1990s, renaming the project to *Axiom* along the way. Eventually, the product was sold to the *Numerical Algorithms Group* in England with the idea of making it a commercial product.  That did not exactly succeed, so the decision was made to open-source the project in 2001. Axion joined a group of similar tools now available for research work.\n",
    "\n",
    "This project documents my effort to get the code running on my Apple M4 Macbook Pro laptop."
   ]
  },
  {
   "cell_type": "markdown",
   "id": "e2b38ca0-bfe1-491a-af06-8fef5018e04a",
   "metadata": {},
   "source": [
    "## Background"
   ]
  },
  {
   "cell_type": "markdown",
   "id": "a8393f3b-4a5d-4dd0-8ab7-d255a7833da7",
   "metadata": {},
   "source": [
    "My own involvement with *Symbolic Algrbra* systems goes a long way back. In 1973, I began working asan aerospace engineering scientist working at the *Aerospace Research Laboratory* at Wright-Patterson Air Force Base in Dayton, Ohio in the 1970s, I was working on developing program code to solve the *Navier-Stokes* equations of fluid flow over bodies flying at hypersonic speeds. We had access to the fastest computers on the planet at the time, so this was exciting work.\n"
   ]
  },
  {
   "cell_type": "markdown",
   "id": "36c9ab6f-6faf-4cfa-bf67-b48b2459a3c3",
   "metadata": {},
   "source": [
    "In developing our code, we started with the fundamental laws of physics and worked through the mathematical development of a complex system of coupled-partial differential equations. Those equations were then converted into numerical form by approximating the derivatives in the equations with *finit-difference* approximations. Finally, we converted all that work into Fortran code to run on real (mainframe at the time) computers. It was tedious and error-prone work.\n",
    "of coupled partial differential equations. We then generated numerical code by approximating the derivatives in the equations with *finite-differences*. After that step the final equations were translated into FORTRAN code to be run on one of several machiens we had available.\n",
    "\n",
    "    All of this math work was tedious and error prone. It was not unusual to have an analysis run over 100 pages of hand-written notes!"
   ]
  },
  {
   "cell_type": "markdown",
   "id": "f1c036f2-2339-4eee-b388-6a232a0c5d00",
   "metadata": {},
   "source": [
    "One of my favorite memories for that time was a conversation I had with a co-worker, Dr. Joseph Shang, (who eventually became a chief-scientist for the *Air Force Aerospace Research Lab*): \n",
    "\n",
    "    Me: Joe, how do you know all that development math you created is right?\n",
    "    \n",
    "    Joe: I do it three times! ThenI use the result where the answer is the same twice.\n",
    "\n",
    "    Me: Great, Joe. Unfortunately, it was the third one that was right.\n",
    "\n",
    "We both walked away laughing, because we never really knew if we had not flipped a sign somewhere, or dropped a term. This was a process that was in great need of help. I found a great system at MIT, called *Maxima* that I could access over the new *Arpanet* network, so I began doing my analysis work on that system\n"
   ]
  },
  {
   "cell_type": "markdown",
   "id": "ff18ce9b-bf95-4a34-ae1e-8cef90ad1655",
   "metadata": {},
   "source": [
    "## Note This Paper\n",
    "\n",
    "This paper was created using *Jupyter Book*. I will detail how I managed to get *Axiom* running on my M4 MacBook Pro. Hopefully, this work will help others get the system running as well, and assit others in oporting the system to other architectures as well.\n"
   ]
  }
 ],
 "metadata": {
  "kernelspec": {
   "display_name": "Python 3 (ipykernel)",
   "language": "python",
   "name": "python3"
  },
  "language_info": {
   "codemirror_mode": {
    "name": "ipython",
    "version": 3
   },
   "file_extension": ".py",
   "mimetype": "text/x-python",
   "name": "python",
   "nbconvert_exporter": "python",
   "pygments_lexer": "ipython3",
   "version": "3.13.1"
  }
 },
 "nbformat": 4,
 "nbformat_minor": 5
}
